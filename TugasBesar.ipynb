{
  "cells": [
    {
      "cell_type": "code",
      "execution_count": 1,
      "metadata": {
        "id": "kxqGCCSoSepP"
      },
      "outputs": [],
      "source": [
        "import tensorflow as tf\n",
        "import os\n",
        "from tensorflow.keras.optimizers import RMSprop\n",
        "from tensorflow.keras.preprocessing.image import ImageDataGenerator"
      ]
    },
    {
      "cell_type": "code",
      "source": [
        "train_dir = ('/content/drive/MyDrive/dataset_new/train')\n",
        "validation_dir = ('/content/drive/MyDrive/dataset_new/val')"
      ],
      "metadata": {
        "id": "yxn8OgGU0MZW"
      },
      "execution_count": 2,
      "outputs": []
    },
    {
      "cell_type": "code",
      "source": [
        "train_belimbing_dir = os.path.join(train_dir, 'Belimbing Wuluh')\n",
        "train_jambu_dir = os.path.join(train_dir, 'Jambu biji')\n",
        "train_jeruk_dir = os.path.join(train_dir, 'Jeruk')\n",
        "train_kemangi_dir = os.path.join(train_dir, 'Kemangi')\n",
        "train_lidah_dir = os.path.join(train_dir, 'Lidah buaya')\n",
        "train_nangka_dir = os.path.join(train_dir, 'Nangka')\n",
        "train_pandan_dir = os.path.join(train_dir, 'Pandan')\n",
        "train_pepaya_dir = os.path.join(train_dir, 'Pepaya')\n",
        "train_seledri_dir = os.path.join(train_dir, 'Seledri')\n",
        "train_sirih_dir = os.path.join(train_dir, 'Sirih')\n",
        "\n",
        "val_belimbing_dir = os.path.join(validation_dir, 'Belimbing Wuluh')\n",
        "val_jambu_dir = os.path.join(validation_dir, 'Jambu biji')\n",
        "val_jeruk_dir = os.path.join(validation_dir, 'Jeruk')\n",
        "val_kemangi_dir = os.path.join(validation_dir, 'Kemangi')\n",
        "val_lidah_dir = os.path.join(validation_dir, 'Lidah buaya')\n",
        "val_nangka_dir = os.path.join(validation_dir, 'Nangka')\n",
        "val_pandan_dir = os.path.join(validation_dir, 'Pandan')\n",
        "val_pepaya_dir = os.path.join(validation_dir, 'Pepaya')\n",
        "val_seledri_dir = os.path.join(validation_dir, 'Seledri')\n",
        "val_sirih_dir = os.path.join(validation_dir, 'Sirih')"
      ],
      "metadata": {
        "id": "Y29AE33A0igB"
      },
      "execution_count": 3,
      "outputs": []
    },
    {
      "cell_type": "code",
      "source": [
        "train_datagen = ImageDataGenerator(\n",
        "                    rescale=1./255,\n",
        "                    rotation_range=20,\n",
        "                    horizontal_flip=True,\n",
        "                    shear_range = 0.2,\n",
        "                    fill_mode = 'nearest')\n",
        " \n",
        "test_datagen = ImageDataGenerator(\n",
        "                    rescale=1./255,\n",
        "                    rotation_range=20,\n",
        "                    horizontal_flip=True,\n",
        "                    shear_range = 0.2,\n",
        "                    fill_mode = 'nearest')"
      ],
      "metadata": {
        "id": "9_wRjL981IH5"
      },
      "execution_count": 6,
      "outputs": []
    },
    {
      "cell_type": "code",
      "source": [
        "train_generator = train_datagen.flow_from_directory(\n",
        "        train_dir,\n",
        "        target_size=(150, 150),\n",
        "        batch_size=10,\n",
        "        class_mode='categorical')\n",
        " \n",
        "validation_generator = test_datagen.flow_from_directory(\n",
        "        validation_dir,\n",
        "        target_size=(150, 150),\n",
        "        batch_size=10,\n",
        "        class_mode='categorical')"
      ],
      "metadata": {
        "colab": {
          "base_uri": "https://localhost:8080/"
        },
        "id": "URbB0Jp31PSu",
        "outputId": "d9cdf7f0-bcc7-4618-aaac-46da73f47d04"
      },
      "execution_count": 7,
      "outputs": [
        {
          "output_type": "stream",
          "name": "stdout",
          "text": [
            "Found 2590 images belonging to 10 classes.\n",
            "Found 870 images belonging to 10 classes.\n"
          ]
        }
      ]
    },
    {
      "cell_type": "code",
      "source": [
        "model = tf.keras.models.Sequential([\n",
        "    tf.keras.layers.Conv2D(32, (3,3), activation='relu', input_shape=(150, 150, 3)),\n",
        "    tf.keras.layers.MaxPooling2D(2, 2),\n",
        "    tf.keras.layers.Conv2D(64, (3,3), activation='relu'),\n",
        "    tf.keras.layers.MaxPooling2D(2,2),\n",
        "    tf.keras.layers.Conv2D(128, (3,3), activation='relu'),\n",
        "    tf.keras.layers.MaxPooling2D(2,2),\n",
        "    tf.keras.layers.Conv2D(128, (3,3), activation='relu'),\n",
        "    tf.keras.layers.MaxPooling2D(2,2),\n",
        "    tf.keras.layers.Flatten(),\n",
        "    tf.keras.layers.Dense(512, activation='relu'),\n",
        "    tf.keras.layers.Dense(10, activation='softmax')\n",
        "])"
      ],
      "metadata": {
        "id": "sFFAyjJo1WF4"
      },
      "execution_count": 8,
      "outputs": []
    },
    {
      "cell_type": "code",
      "source": [
        "model.summary()"
      ],
      "metadata": {
        "colab": {
          "base_uri": "https://localhost:8080/"
        },
        "id": "zYBHYEXA1Y1Q",
        "outputId": "f34a6384-de6a-499b-eec9-42848efdef6b"
      },
      "execution_count": 9,
      "outputs": [
        {
          "output_type": "stream",
          "name": "stdout",
          "text": [
            "Model: \"sequential\"\n",
            "_________________________________________________________________\n",
            " Layer (type)                Output Shape              Param #   \n",
            "=================================================================\n",
            " conv2d (Conv2D)             (None, 148, 148, 32)      896       \n",
            "                                                                 \n",
            " max_pooling2d (MaxPooling2D  (None, 74, 74, 32)       0         \n",
            " )                                                               \n",
            "                                                                 \n",
            " conv2d_1 (Conv2D)           (None, 72, 72, 64)        18496     \n",
            "                                                                 \n",
            " max_pooling2d_1 (MaxPooling  (None, 36, 36, 64)       0         \n",
            " 2D)                                                             \n",
            "                                                                 \n",
            " conv2d_2 (Conv2D)           (None, 34, 34, 128)       73856     \n",
            "                                                                 \n",
            " max_pooling2d_2 (MaxPooling  (None, 17, 17, 128)      0         \n",
            " 2D)                                                             \n",
            "                                                                 \n",
            " conv2d_3 (Conv2D)           (None, 15, 15, 128)       147584    \n",
            "                                                                 \n",
            " max_pooling2d_3 (MaxPooling  (None, 7, 7, 128)        0         \n",
            " 2D)                                                             \n",
            "                                                                 \n",
            " flatten (Flatten)           (None, 6272)              0         \n",
            "                                                                 \n",
            " dense (Dense)               (None, 512)               3211776   \n",
            "                                                                 \n",
            " dense_1 (Dense)             (None, 10)                5130      \n",
            "                                                                 \n",
            "=================================================================\n",
            "Total params: 3,457,738\n",
            "Trainable params: 3,457,738\n",
            "Non-trainable params: 0\n",
            "_________________________________________________________________\n"
          ]
        }
      ]
    },
    {
      "cell_type": "code",
      "source": [
        "model.compile(loss='categorical_crossentropy',\n",
        "              optimizer=tf.optimizers.Adam(),\n",
        "              metrics=['accuracy'])"
      ],
      "metadata": {
        "id": "ICYwFdpq1bvU"
      },
      "execution_count": 10,
      "outputs": []
    },
    {
      "cell_type": "code",
      "source": [
        "model.fit(\n",
        "      train_generator,\n",
        "      steps_per_epoch=100, \n",
        "      epochs=150,\n",
        "      validation_data=validation_generator, \n",
        "      validation_steps=150,  \n",
        "      verbose=\"auto\")"
      ],
      "metadata": {
        "colab": {
          "base_uri": "https://localhost:8080/"
        },
        "id": "KQ7T44k61ezG",
        "outputId": "d37d5cb0-9734-4441-b768-b69d8e9ae7ca"
      },
      "execution_count": null,
      "outputs": [
        {
          "output_type": "stream",
          "name": "stdout",
          "text": [
            "Epoch 1/150\n",
            "100/100 [==============================] - ETA: 0s - loss: 1.9339 - accuracy: 0.2780WARNING:tensorflow:Your input ran out of data; interrupting training. Make sure that your dataset or generator can generate at least `steps_per_epoch * epochs` batches (in this case, 150 batches). You may need to use the repeat() function when building your dataset.\n",
            "100/100 [==============================] - 281s 3s/step - loss: 1.9339 - accuracy: 0.2780 - val_loss: 1.4074 - val_accuracy: 0.4931\n",
            "Epoch 2/150\n",
            "100/100 [==============================] - 156s 2s/step - loss: 1.3171 - accuracy: 0.5100\n",
            "Epoch 3/150\n",
            "100/100 [==============================] - 135s 1s/step - loss: 1.0772 - accuracy: 0.6160\n",
            "Epoch 4/150\n",
            "100/100 [==============================] - 108s 1s/step - loss: 1.0285 - accuracy: 0.6380\n",
            "Epoch 5/150\n",
            "100/100 [==============================] - 111s 1s/step - loss: 0.8649 - accuracy: 0.6870\n",
            "Epoch 6/150\n",
            "100/100 [==============================] - 90s 900ms/step - loss: 0.7838 - accuracy: 0.7300\n",
            "Epoch 7/150\n",
            "100/100 [==============================] - 92s 911ms/step - loss: 0.7492 - accuracy: 0.7170\n",
            "Epoch 8/150\n",
            "100/100 [==============================] - 98s 974ms/step - loss: 0.6445 - accuracy: 0.7650\n",
            "Epoch 9/150\n",
            "100/100 [==============================] - 90s 899ms/step - loss: 0.6355 - accuracy: 0.7780\n",
            "Epoch 10/150\n",
            "100/100 [==============================] - 88s 873ms/step - loss: 0.5369 - accuracy: 0.7960\n",
            "Epoch 11/150\n",
            "100/100 [==============================] - 86s 856ms/step - loss: 0.4868 - accuracy: 0.8250\n",
            "Epoch 12/150\n",
            "100/100 [==============================] - 89s 890ms/step - loss: 0.5014 - accuracy: 0.8250\n",
            "Epoch 13/150\n",
            "100/100 [==============================] - 87s 873ms/step - loss: 0.5039 - accuracy: 0.8120\n",
            "Epoch 14/150\n",
            "100/100 [==============================] - 91s 902ms/step - loss: 0.4465 - accuracy: 0.8420\n",
            "Epoch 15/150\n",
            "100/100 [==============================] - 89s 885ms/step - loss: 0.3916 - accuracy: 0.8560\n",
            "Epoch 16/150\n",
            "100/100 [==============================] - 91s 910ms/step - loss: 0.3829 - accuracy: 0.8550\n",
            "Epoch 17/150\n",
            "100/100 [==============================] - 87s 868ms/step - loss: 0.3920 - accuracy: 0.8620\n",
            "Epoch 18/150\n",
            "100/100 [==============================] - 91s 913ms/step - loss: 0.3628 - accuracy: 0.8650\n",
            "Epoch 19/150\n",
            "100/100 [==============================] - 88s 871ms/step - loss: 0.3294 - accuracy: 0.8890\n"
          ]
        }
      ]
    },
    {
      "cell_type": "code",
      "source": [
        "MODEL_BASE_PATH = \"Model\"\n",
        "PROJECT_NAME = \"TUBES\"\n",
        "SAVE_MODEL_NAME = \"modeltubes.h5\"\n",
        "save_model_path = os.path.join(MODEL_BASE_PATH, PROJECT_NAME, SAVE_MODEL_NAME)\n",
        "if os.path.exists(os.path.join(MODEL_BASE_PATH, PROJECT_NAME)) == False:\n",
        "    os.makedirs(os.path.join(MODEL_BASE_PATH, PROJECT_NAME))\n",
        "    \n",
        "print('Saving Model At {}...'.format(save_model_path))\n",
        "model.save(save_model_path,include_optimizer=False)"
      ],
      "metadata": {
        "id": "tbfdfPXt6_C8"
      },
      "execution_count": null,
      "outputs": []
    }
  ],
  "metadata": {
    "colab": {
      "name": "Copy of Untitled0.ipynb",
      "provenance": []
    },
    "kernelspec": {
      "display_name": "Python 3",
      "name": "python3"
    },
    "language_info": {
      "name": "python"
    }
  },
  "nbformat": 4,
  "nbformat_minor": 0
}